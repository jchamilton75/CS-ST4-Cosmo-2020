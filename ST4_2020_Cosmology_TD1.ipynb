{
  "nbformat": 4,
  "nbformat_minor": 0,
  "metadata": {
    "colab": {
      "name": "ST4-2020-Cosmology-TD1.ipynb",
      "provenance": [],
      "collapsed_sections": [],
      "authorship_tag": "ABX9TyNDf+ABPnXD3gnsrIcrR+nd",
      "include_colab_link": true
    },
    "kernelspec": {
      "name": "python3",
      "display_name": "Python 3"
    }
  },
  "cells": [
    {
      "cell_type": "markdown",
      "metadata": {
        "id": "view-in-github",
        "colab_type": "text"
      },
      "source": [
        "<a href=\"https://colab.research.google.com/github/jchamilton75/CS-ST4-Cosmo-2020/blob/master/ST4_2020_Cosmology_TD1.ipynb\" target=\"_parent\"><img src=\"https://colab.research.google.com/assets/colab-badge.svg\" alt=\"Open In Colab\"/></a>"
      ]
    },
    {
      "cell_type": "markdown",
      "metadata": {
        "id": "vtDmPTLZcgkh",
        "colab_type": "text"
      },
      "source": [
        "# Centrale-Supélec - ST4 - Cosmology 2020 - TD1\n",
        "\n",
        "Welcome this this first practicle work in cosmology. The aim of this practicle work is to further familiarize you with python and Google Colaboratory. Remember that you will have to use this for the Enseignement d'Intégration, so you really want to get trained before...\n",
        "\n",
        "In this first Practicle work we will address the following topics:\n",
        "\n",
        "\n",
        "1.   Simple Plots with cosmological parameters\n",
        "2.   Calculating distances and age of the Universe\n"
      ]
    },
    {
      "cell_type": "markdown",
      "metadata": {
        "id": "9rHbV8tKeGdo",
        "colab_type": "text"
      },
      "source": [
        "## Simple Plots with cosmological parameters\n",
        "In a python notebook, there a cells that can be \"code\" or \"text\". The code cells can be recognized by the \"In[xx]\" at the beginning (xx is a number that depends on the order of execution of the cells)). They can be executed by pressing \"Shift+Enter\" and the code they contain is executed by the machine. If there is an output, it is displayed in another cell below the input one, a cell that starts with \"Out[xx]\".\n",
        "\n",
        "Before starting, one usually needs to set-up a few parameters for the notebook so that the plots are good-looking and that usual librairies are imported. This is obtained by executing the cell below:"
      ]
    },
    {
      "cell_type": "code",
      "metadata": {
        "id": "B0G-WGDYdXHW",
        "colab_type": "code",
        "outputId": "e447c73a-3878-4325-d096-efe2c2309bda",
        "colab": {
          "base_uri": "https://localhost:8080/",
          "height": 34
        }
      },
      "source": [
        "import sys\n",
        "print(\"Using Python {}\".format(sys.version_info[0]))\n",
        "\n",
        "from pylab import *\n",
        "import numpy as np\n",
        "%matplotlib inline\n",
        "from matplotlib import rc\n",
        "from importlib import reload\n",
        "rc('figure',figsize=(10,5))\n",
        "rc('font',size=12)\n",
        "rc('text',usetex=False)"
      ],
      "execution_count": 0,
      "outputs": [
        {
          "output_type": "stream",
          "text": [
            "Using Python 3\n"
          ],
          "name": "stdout"
        }
      ]
    },
    {
      "cell_type": "markdown",
      "metadata": {
        "id": "kORl7BNleTkg",
        "colab_type": "text"
      },
      "source": [
        "### Densities as a function of redshift\n",
        "We will now do our first plot, which is related to cosmology. We want to plot the evolution of the density of various species (Radiation, Matter and Cosmological constant) as a finction of redshift. This was shown is the first lecture. We use the following values for the various densities as expressed today:"
      ]
    },
    {
      "cell_type": "code",
      "metadata": {
        "id": "z7p42t67eKju",
        "colab_type": "code",
        "colab": {}
      },
      "source": [
        "h_0 = 0.7\n",
        "omega_l_0 = 0.7\n",
        "omega_r_0 = 4.3 * h_0**(-2) * 1e-5\n",
        "omega_m_0 = 0.3 - omega_r_0 "
      ],
      "execution_count": 0,
      "outputs": []
    },
    {
      "cell_type": "markdown",
      "metadata": {
        "id": "ZXTSKPuLerPG",
        "colab_type": "text"
      },
      "source": [
        "We recall that: $$\\Omega(z) = \\Omega_r (1 + z)^4 + \\Omega_m (1 + z)^3 + \\Omega_\\Lambda$$\n",
        "\n",
        "We define a array containg the redshifts that we want to look at with logarithmic spacing between 1e-1 and 1e4 and 1000 elements."
      ]
    },
    {
      "cell_type": "code",
      "metadata": {
        "id": "RolrcvH-enzT",
        "colab_type": "code",
        "outputId": "cf31f3c6-3930-4df5-c2ca-dc0667d7a30b",
        "colab": {
          "base_uri": "https://localhost:8080/",
          "height": 51
        }
      },
      "source": [
        "z = np.logspace(-1, 4, 1000)\n",
        "\n",
        "### Let's print the first 10 elements\n",
        "print(z[0:10])"
      ],
      "execution_count": 0,
      "outputs": [
        {
          "output_type": "stream",
          "text": [
            "[0.1        0.10115911 0.10233166 0.1035178  0.10471768 0.10593148\n",
            " 0.10715934 0.10840144 0.10965793 0.11092899]\n"
          ],
          "name": "stdout"
        }
      ]
    },
    {
      "cell_type": "markdown",
      "metadata": {
        "id": "pEl6_XzifGu_",
        "colab_type": "text"
      },
      "source": [
        "We can directly calculate the densities using the redshift array as the following:"
      ]
    },
    {
      "cell_type": "code",
      "metadata": {
        "id": "IhQRvSpbfD0D",
        "colab_type": "code",
        "colab": {}
      },
      "source": [
        "om_r = omega_r_0 * (1 + z)**4\n",
        "om_m = omega_m_0 * (1 + z)**3\n",
        "# the operation below is just a trick to have om_l be an array with the same \n",
        "# number of elements as the others\n",
        "om_l = omega_l_0 + z*0       \n",
        "total = om_r + om_m + om_l"
      ],
      "execution_count": 0,
      "outputs": []
    },
    {
      "cell_type": "markdown",
      "metadata": {
        "id": "OpqTaWnrfeTg",
        "colab_type": "text"
      },
      "source": [
        "Now let's do our first plot:"
      ]
    },
    {
      "cell_type": "code",
      "metadata": {
        "id": "uh-a09qPfbb0",
        "colab_type": "code",
        "outputId": "9218bbe3-1766-49b4-fa29-130f13a0730b",
        "colab": {
          "base_uri": "https://localhost:8080/",
          "height": 370
        }
      },
      "source": [
        "rc('figure',figsize=(10,5))\n",
        "xscale('log')\n",
        "yscale('log')\n",
        "xlabel('Redshift')\n",
        "ylabel(r'$\\Omega(z)$')\n",
        "plot(z,om_l, 'b', label = r'$\\Omega_\\Lambda(z)$')\n",
        "plot(z,om_r, 'k', label = r'$\\Omega_R(z)$')\n",
        "plot(z,om_m, 'g', label = r'$\\Omega_{NR}(z)$')\n",
        "plot(z,total, 'r', lw=2, label = 'Total')\n",
        "legend(loc='upper left', fontsize=13)\n",
        "title('Densities as a function of Redshift')"
      ],
      "execution_count": 0,
      "outputs": [
        {
          "output_type": "execute_result",
          "data": {
            "text/plain": [
              "Text(0.5, 1.0, 'Densities as a function of Redshift')"
            ]
          },
          "metadata": {
            "tags": []
          },
          "execution_count": 5
        },
        {
          "output_type": "display_data",
          "data": {
            "image/png": "[encoded data removed]",
            "text/plain": [
              "<Figure size 720x360 with 1 Axes>"
            ]
          },
          "metadata": {
            "tags": [],
            "needs_background": "light"
          }
        }
      ]
    },
    {
      "cell_type": "markdown",
      "metadata": {
        "id": "O60kkPcSfvM6",
        "colab_type": "text"
      },
      "source": [
        "***Question 1:*** Find numerically the values of the redshift of matter-radiation equality and of lambda domination, store them into a variable and print them."
      ]
    },
    {
      "cell_type": "code",
      "metadata": {
        "id": "LQCYvXHKfgxZ",
        "colab_type": "code",
        "colab": {}
      },
      "source": [
        ""
      ],
      "execution_count": 0,
      "outputs": []
    },
    {
      "cell_type": "markdown",
      "metadata": {
        "id": "iKNi32iKgOBk",
        "colab_type": "text"
      },
      "source": [
        "***Question 2:*** Now replot the initial plot and materialize with dotted vertical lines the values you found before. You are also requested to display the redshifts you found in the legend using python's formatted output. \n",
        "\n",
        "As an example for printing $\\pi$ with maximum 5 characters and 2 digits:\n",
        "```\n",
        "print('pi is {0:5.2f}'.format(np.pi))\n",
        "```"
      ]
    },
    {
      "cell_type": "code",
      "metadata": {
        "id": "1OPB8YWwf2yC",
        "colab_type": "code",
        "colab": {}
      },
      "source": [
        ""
      ],
      "execution_count": 0,
      "outputs": []
    },
    {
      "cell_type": "markdown",
      "metadata": {
        "id": "koTTEAN3g1ru",
        "colab_type": "text"
      },
      "source": [
        "Note the way of adding numerical values from a variable in the plot. This will be useful later.\n",
        "\n",
        "Now you know how to make a simple plot from an array, and how to manipulate arrays and make operations with them.\n"
      ]
    },
    {
      "cell_type": "markdown",
      "metadata": {
        "id": "Ob8_zLMXhFRq",
        "colab_type": "text"
      },
      "source": [
        "## Cosmological Distances\n",
        "\n",
        "### quick recap\n",
        "\n",
        "Let's recall that distances in cosmology are not as straighforward as in our everyday life because of the effect of the expansion of the Universe. One needs to calculate distances on the curved and expanding manifold whose metric is given by the Friedman-Lemaître-Robertson-Walker  metric:\n",
        "$$ds^2 = dt^2 - a^2(t)\\left[\\frac{dr^2}{1-kr^2} + r^2 d\\theta^2 + r^2\\sin^2\\theta d\\phi^2\\right]$$  \n",
        "where we have set $c=1$ and $k$ is the curvature parameter and can take the values -1, 0 or 1 corresponding respectively to open, flat and closed Universes.\n",
        "\n",
        "The radial space coordinate difference between a point at 0 and a point at radius $r$ is:\n",
        "$$\\Delta r(z) = \\int_0^r \\frac{dr'}{\\sqrt{1-kr'^2}}$$\n",
        "\n",
        "For a photon, the travel is made at the speed of light whatever the referential (Relativity princinple) and the invariant $ds^2$ is therefore equal to zero:\n",
        "$$ds^2 = 0 = dt^2-a^2\\frac{dr^2}{1-kr^2}$$\n",
        "so that\n",
        "$$\\frac{dr}{\\sqrt{1-kr^2}}=\\frac{dt}{a}$$\n",
        "We also recall the definition of the redshift: $$1+z = \\frac{a0}{a}$$ and differientate it with respect to time:\n",
        "$$\\frac{dz}{dt}= -\\dot{a}\\frac{a_0}{a^2}$$ implying $$\\frac{dt}{a} = -\\frac{dz}{a_0}\\times\\frac{a}{\\dot{a}}$$, so finally introducing the Hubble parameters $H=\\frac{\\dot{a}}{a}$, we can rewrite the coordinate difference as:\n",
        "$$\\Delta r(z) = \\frac{1}{a_0}\\int_0^z \\frac{dz'}{H(z')}$$.\n",
        "\n",
        "Multiplying this coordinate difference by the scale factor today $a_0$, one get the *proper comoving distance*: $$D_P(z) = a_0 \\Delta r(z) = \\int_0^z \\frac{dz'}{H(z')}$$\n",
        "\n",
        "The latter can be multiplied by $1+z$ to obtain the *Luminosity Distance* or divided by $1+z$ to obtain the angular diameter distance."
      ]
    },
    {
      "cell_type": "markdown",
      "metadata": {
        "id": "_BZ60nrDhagd",
        "colab_type": "text"
      },
      "source": [
        "### Luminosity distance calculation\n",
        "We will first calculate and plot H(z) with 1000 values of z between 0 and 1 linearly spaced (function to use is linspace()) using the formula in the course for H(z) and the cosmological parameters set to the same values as above. You can also play with cosmological parameters to see the change. We recall that $$H(z)=H_0\\sqrt{\\Omega_k(1 + z)^2 + \\Omega_\\Lambda + \\Omega_m (1 + z)^3}$$\n",
        "\n",
        "***Question 3:*** Do it yourself in the following cell, the variable H(z) should be called \"hz\". You are then requested to plot H as a function of z. Do not forget to put labels on your axes as well as a legend."
      ]
    },
    {
      "cell_type": "code",
      "metadata": {
        "id": "rvwLatV-grIm",
        "colab_type": "code",
        "colab": {}
      },
      "source": [
        ""
      ],
      "execution_count": 0,
      "outputs": []
    },
    {
      "cell_type": "markdown",
      "metadata": {
        "id": "n5YXbf4ehuHc",
        "colab_type": "text"
      },
      "source": [
        "Now we calculate the luminosity distance $$D_l(z) = c(1+z)\\int_0^z \\frac{\\mathrm{d}z'}{H(z')}$$ using the numerical integration features of the scipy library (trapezoidal cumulative integral):"
      ]
    },
    {
      "cell_type": "code",
      "metadata": {
        "id": "Bnkk1b78hqwJ",
        "colab_type": "code",
        "colab": {}
      },
      "source": [
        "import scipy.integrate\n",
        "dp = np.zeros(len(z))\n",
        "dp[1:] = scipy.integrate.cumtrapz(1./hz, z) * 3e5"
      ],
      "execution_count": 0,
      "outputs": []
    },
    {
      "cell_type": "markdown",
      "metadata": {
        "id": "iGisXWWhhzRV",
        "colab_type": "text"
      },
      "source": [
        "***Question 4:*** You are asked to make a plot of Luminosity distance as a function of redshift in the following cell (remember that $D_L(z) = (1+z)\\times D_p(z)$. You will call the variable containing luminosity distance \"dl\":"
      ]
    },
    {
      "cell_type": "code",
      "metadata": {
        "id": "Q9X6SM1Shwht",
        "colab_type": "code",
        "colab": {}
      },
      "source": [
        ""
      ],
      "execution_count": 0,
      "outputs": []
    },
    {
      "cell_type": "markdown",
      "metadata": {
        "id": "I2NjpaZth8vV",
        "colab_type": "text"
      },
      "source": [
        "### Using the cosmolib library\n",
        "In order to simplify our lives, I have prepared a library for the purpose of this course called \"cosmolib.py\" which is in the same directory. I encourage you to have a look at the various codes that we will be using from this library in order to see how such tools can be simply coded.\n",
        "\n",
        "The library requires installing two public libraries: pymc and iminuit before:"
      ]
    },
    {
      "cell_type": "code",
      "metadata": {
        "id": "v3hMGa1Sh1sN",
        "colab_type": "code",
        "outputId": "9cfbb778-d806-482c-d9ee-ac540e8a4afc",
        "colab": {
          "base_uri": "https://localhost:8080/",
          "height": 68
        }
      },
      "source": [
        "!pip install pymc\n",
        "!pip install iminuit"
      ],
      "execution_count": 0,
      "outputs": [
        {
          "output_type": "stream",
          "text": [
            "Requirement already satisfied: pymc in /usr/local/lib/python3.6/dist-packages (2.3.8)\n",
            "Requirement already satisfied: iminuit in /usr/local/lib/python3.6/dist-packages (1.3.10)\n",
            "Requirement already satisfied: numpy>=1.11.3 in /usr/local/lib/python3.6/dist-packages (from iminuit) (1.18.4)\n"
          ],
          "name": "stdout"
        }
      ]
    },
    {
      "cell_type": "markdown",
      "metadata": {
        "id": "_jdwu2vwjXOK",
        "colab_type": "text"
      },
      "source": [
        "Now let's retrieve the cosmoUOlib.py from GitHub directly using Google Colaboratory.\n",
        "\n",
        "Note that we first remove a possible version of the file in the local Google Colab directory, then download it using wget, list the content of the directory. All these commands are typical unix commands that are run from Google Colaboratory by prepending an exclamation mark to tell it that it should run unix commands:"
      ]
    },
    {
      "cell_type": "code",
      "metadata": {
        "id": "NnP2JxQwjjx-",
        "colab_type": "code",
        "outputId": "1bb1a8ba-40c9-476a-95d4-cefdf169aac5",
        "colab": {
          "base_uri": "https://localhost:8080/",
          "height": 272
        }
      },
      "source": [
        "!rm -rf cosmolib.py*\n",
        "!wget --no-check-certificate https://raw.githubusercontent.com/jchamilton75/CS-ST4-Cosmo-2020/master/cosmolib.py\n",
        "!ls -lrt"
      ],
      "execution_count": 0,
      "outputs": [
        {
          "output_type": "stream",
          "text": [
            "--2020-05-08 19:00:30--  https://raw.githubusercontent.com/jchamilton75/CS-ST4-Cosmo-2020/master/cosmolib.py\n",
            "Resolving raw.githubusercontent.com (raw.githubusercontent.com)... 151.101.0.133, 151.101.64.133, 151.101.128.133, ...\n",
            "Connecting to raw.githubusercontent.com (raw.githubusercontent.com)|151.101.0.133|:443... connected.\n",
            "HTTP request sent, awaiting response... 200 OK\n",
            "Length: 14517 (14K) [text/plain]\n",
            "Saving to: ‘cosmolib.py’\n",
            "\n",
            "\rcosmolib.py           0%[                    ]       0  --.-KB/s               \rcosmolib.py         100%[===================>]  14.18K  --.-KB/s    in 0.01s   \n",
            "\n",
            "2020-05-08 19:00:30 (1.17 MB/s) - ‘cosmolib.py’ saved [14517/14517]\n",
            "\n",
            "total 24\n",
            "drwxr-xr-x 1 root root  4096 May  4 16:26 sample_data\n",
            "drwxr-xr-x 2 root root  4096 May  8 18:59 __pycache__\n",
            "-rw-r--r-- 1 root root 14517 May  8 19:00 cosmolib.py\n"
          ],
          "name": "stdout"
        }
      ]
    },
    {
      "cell_type": "markdown",
      "metadata": {
        "id": "BtA4EQacoMI0",
        "colab_type": "text"
      },
      "source": [
        "Now let's import the library and give it the namespace 'cs' so that everytime we'll call one of its function it will be as:\n",
        "```\n",
        "cs.myfunction()\n",
        "```\n",
        "\n"
      ]
    },
    {
      "cell_type": "code",
      "metadata": {
        "id": "oQVZYoDjoacH",
        "colab_type": "code",
        "outputId": "c26a9248-c5cf-47a3-a5e3-b22dafdfaf8c",
        "colab": {
          "base_uri": "https://localhost:8080/",
          "height": 71
        }
      },
      "source": [
        "import cosmolib as cs"
      ],
      "execution_count": 0,
      "outputs": [
        {
          "output_type": "stream",
          "text": [
            "/usr/local/lib/python3.6/dist-packages/statsmodels/tools/_testing.py:19: FutureWarning: pandas.util.testing is deprecated. Use the functions in the public API at pandas.testing instead.\n",
            "  import pandas.util.testing as tm\n"
          ],
          "name": "stderr"
        }
      ]
    },
    {
      "cell_type": "markdown",
      "metadata": {
        "id": "YwYalOwoiXBO",
        "colab_type": "text"
      },
      "source": [
        "It contains a function for Luminosity Distances that is slightly more precise than the one we just calculated above, but the differences are very small.\n",
        "\n",
        "It is called in the follwing manner that uses a dictionnary to specify the value of the cosmological parameters. The three parameters that are accepted are:\n",
        "- *h* for the Hubble constant at redshift 0 divided by 100\n",
        "- *omega_M_0* for $\\Omega_m$ today at redshift 0\n",
        "- *omega_lambda_0* for $\\Omega_\\Lambda$ at redshift 0\n",
        "- *w0* for the equation of state of Dark Energy. \n",
        "\n",
        "**Note:** The Dark Energy equation of state was not discussed in the lectures due to the lack of time. It is however one of the main challenges of observational cosmology to measure it today. SNIa are a sensitive probe for this parameter. The equation of state is the ratio between pressure and density of Dark Energy (as for a perfect gaz). However in the case of Dark Energy or Csomological Constant the ratio is negative (you need negative pressure to have an accelerated expansion as can be seen in the second Friedman Equation - see lectures). For a perfect Cosmological constant w=0 and for Dark Energy models it can have other values, and possibly vary with redshift. Do not worry with this now and just keep it fixed to -1."
      ]
    },
    {
      "cell_type": "code",
      "metadata": {
        "id": "1PzAQJBNiKAu",
        "colab_type": "code",
        "colab": {}
      },
      "source": [
        "cosmo_lcdm = {'h':0.7, 'omega_M_0':0.3, 'omega_lambda_0':0.7, 'w0':-1.}\n",
        "dlnew = cs.lumdist(z, cosmo_lcdm)"
      ],
      "execution_count": 0,
      "outputs": []
    },
    {
      "cell_type": "markdown",
      "metadata": {
        "id": "sRvltPU6ojgp",
        "colab_type": "text"
      },
      "source": [
        "As you see the Cosmological Parameters values are specified using a Python Dictionnary, a very useful tool in Python when one needs containers of various data types with labels for each.\n",
        "\n",
        "***Question 5:*** In the follwing cell, you are expected to superimpose both of the luminosity distances we have calculated (if you want to play, you can also have a look at the difference or relative difference between both)."
      ]
    },
    {
      "cell_type": "code",
      "metadata": {
        "id": "ZFdE2L0GnF0a",
        "colab_type": "code",
        "colab": {}
      },
      "source": [
        ""
      ],
      "execution_count": 0,
      "outputs": []
    },
    {
      "cell_type": "markdown",
      "metadata": {
        "id": "MbdJmaeBpAy4",
        "colab_type": "text"
      },
      "source": [
        "## Calculating the age of the Universe\n",
        "Similarly to the distance calculation, one can calculate the time elapsed since a given redshift (we have used variable changes similar as above):\n",
        "$$t(z) = \\int_t^{t0} dt' = \\int_0^z \\frac{dz'}{(1+z')H(z')}$$\n",
        "\n",
        "Calculating this integral from 0 to infinity gives the age of the Universe for a given cosmological model. You may implement your own calculation of the age of the Universe or use the function available in the cosmolib library:\n",
        "age [Gyr] = cs.lookback(z, cosmo)\n",
        "\n",
        "where z can be just a value or an numpy array of redshifts and cosmo is a dictionary given in the following manner:\n"
      ]
    },
    {
      "cell_type": "code",
      "metadata": {
        "id": "6dLxRWQsol8N",
        "colab_type": "code",
        "colab": {}
      },
      "source": [
        "cosmo_lcdm = {'h':0.7, 'omega_M_0':0.3, 'omega_lambda_0':0.7, 'w0':-1.}"
      ],
      "execution_count": 0,
      "outputs": []
    },
    {
      "cell_type": "markdown",
      "metadata": {
        "id": "wS-zMQAGrBwF",
        "colab_type": "text"
      },
      "source": [
        "Let's calculate the age of the Universe when the redshift was 0.1"
      ]
    },
    {
      "cell_type": "code",
      "metadata": {
        "id": "dQGAjFGcpE0C",
        "colab_type": "code",
        "outputId": "049c2c7d-84c8-4d38-8f57-8890bea444e3",
        "colab": {
          "base_uri": "https://localhost:8080/",
          "height": 34
        }
      },
      "source": [
        "print(cs.lookback(0.1, cosmo_lcdm))"
      ],
      "execution_count": 0,
      "outputs": [
        {
          "output_type": "stream",
          "text": [
            "1.3015743503698538\n"
          ],
          "name": "stdout"
        }
      ]
    },
    {
      "cell_type": "markdown",
      "metadata": {
        "id": "pQo0yAbyrHq4",
        "colab_type": "text"
      },
      "source": [
        "And let's calculate an array with ages of the Universe at various redshifts:"
      ]
    },
    {
      "cell_type": "code",
      "metadata": {
        "id": "IdsxU5i4rGcM",
        "colab_type": "code",
        "outputId": "dedec3db-ba2f-4bc7-fc27-44f3a87156fe",
        "colab": {
          "base_uri": "https://localhost:8080/",
          "height": 34
        }
      },
      "source": [
        "zvalues = np.array([0.1, 1, 10])\n",
        "print(cs.lookback(zvalues, cosmo_lcdm))"
      ],
      "execution_count": 0,
      "outputs": [
        {
          "output_type": "stream",
          "text": [
            "[ 1.30157435  7.71697782 13.0038611 ]\n"
          ],
          "name": "stdout"
        }
      ]
    },
    {
      "cell_type": "markdown",
      "metadata": {
        "id": "3wEFpPturfuJ",
        "colab_type": "text"
      },
      "source": [
        "***Question 6:*** In the next cell, calculate the time elapsed between today and 1000 redshifts logarithmically spaced between $10^{-4}$ and $10^4$ for the standard $\\Lambda CDM$ cosmology and represent it as a function of redshift."
      ]
    },
    {
      "cell_type": "code",
      "metadata": {
        "id": "dijhCcaprTDP",
        "colab_type": "code",
        "colab": {}
      },
      "source": [
        ""
      ],
      "execution_count": 0,
      "outputs": []
    },
    {
      "cell_type": "markdown",
      "metadata": {
        "id": "7H4ldqfhrrft",
        "colab_type": "text"
      },
      "source": [
        "***Question 7:*** You should see that beyond $z=10$ the elapsed time reaches its maximum, the age of the Universe whose value is therefore the maximum of this array. You are expected to print it in the following cell:"
      ]
    },
    {
      "cell_type": "code",
      "metadata": {
        "id": "-vw3ahGzritW",
        "colab_type": "code",
        "colab": {}
      },
      "source": [
        ""
      ],
      "execution_count": 0,
      "outputs": []
    },
    {
      "cell_type": "markdown",
      "metadata": {
        "id": "Elpv2vNRryRD",
        "colab_type": "text"
      },
      "source": [
        "You will now calculate this age as a function of cosmological parameters, for this you will need to perform loops and use two-dimensional arrays.\n",
        "\n",
        "***Question 8:*** Calculate the age of Universe as a function of the matter density (30 or 100 values between 0 and 1) and the Cosmological Constant density (30 or 100 values between 0 and 1.5). For each couple of values, you will calculate the age of the Universe and fill a 2D-array. You will then represent this age using a color 2D plot using the matplotlib function *imshow()*. Do not forget to add correct axes, title and labels on the axes. You will also add a color-bar next to the image by calling the *colorbar()* function just after your 2D plot."
      ]
    },
    {
      "cell_type": "code",
      "metadata": {
        "id": "pQLDFbTUrxZL",
        "colab_type": "code",
        "colab": {}
      },
      "source": [
        ""
      ],
      "execution_count": 0,
      "outputs": []
    },
    {
      "cell_type": "markdown",
      "metadata": {
        "id": "H_ZkMfobsMKL",
        "colab_type": "text"
      },
      "source": [
        "***Question 9:*** You are now requested to redo the same plot adding:\n",
        "- contours for various integer values of the age of the Universe (bettween 0 and 20 GYr). You should use both the *contour()* and the *contourf()* functions from matplotlib that allow you to respectively plot and fill the contours with colors. Note that these to function expect 2d arrays as x,y coordinates for the values to display, so you will have to build 2d arrays from your x and y 1d arrays using the function *np.meshgrid()*\n",
        "- an additional contour (different color) for the star HE1523-0901 whose age has been measured to be 13.2 Gyr\n",
        "- A star at the coordinates corresponding to $\\Lambda CDM$ cosmology ($\\Omega_m=0.3$, $\\Omega_\\Lambda=0.7$)\n",
        "- A dot in a given color for the open Univserse with no $\\Lambda$  ($\\Omega_m=0.3$, $\\Omega_\\Lambda=0$)\n",
        "- A dot in another color for the flat no $\\Lambda$ ($\\Omega_m=1$, $\\Omega_\\Lambda=0$)\n",
        "\n",
        "And of course pout all these into a legend. \n",
        "\n",
        "In order to do the contours\n",
        "\n",
        "At the end, you should get the following plot which look like it could be published in a paper...  ![ageUniverse](http://www.apc.univ-paris7.fr/Downloads/cosmobs/JCH/CentraleSupelec/age.png)"
      ]
    },
    {
      "cell_type": "code",
      "metadata": {
        "id": "40OdJld6r5Q3",
        "colab_type": "code",
        "colab": {}
      },
      "source": [
        ""
      ],
      "execution_count": 0,
      "outputs": []
    },
    {
      "cell_type": "code",
      "metadata": {
        "id": "SP62kKlmsYCr",
        "colab_type": "code",
        "colab": {}
      },
      "source": [
        ""
      ],
      "execution_count": 0,
      "outputs": []
    }
  ]
}