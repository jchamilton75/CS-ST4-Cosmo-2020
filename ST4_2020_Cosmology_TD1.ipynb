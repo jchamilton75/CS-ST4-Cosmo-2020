{
  "nbformat": 4,
  "nbformat_minor": 0,
  "metadata": {
    "colab": {
      "name": "ST4-2020-Cosmology-TD1.ipynb",
      "provenance": [],
      "authorship_tag": "ABX9TyOh1pC9xWdCMSRYn4IbDS2m",
      "include_colab_link": true
    },
    "kernelspec": {
      "name": "python3",
      "display_name": "Python 3"
    }
  },
  "cells": [
    {
      "cell_type": "markdown",
      "metadata": {
        "id": "view-in-github",
        "colab_type": "text"
      },
      "source": [
        "<a href=\"https://colab.research.google.com/github/jchamilton75/CS-ST4-Cosmo-2020/blob/master/ST4_2020_Cosmology_TD1.ipynb\" target=\"_parent\"><img src=\"https://colab.research.google.com/assets/colab-badge.svg\" alt=\"Open In Colab\"/></a>"
      ]
    },
    {
      "cell_type": "markdown",
      "metadata": {
        "id": "vtDmPTLZcgkh"
      },
      "source": [
        "# Centrale-Supélec - ST4 - Cosmology - TD1\n",
        "\n",
        "## General Instructions (copied from G. Mention's TD1)\n",
        "To do this homework, you have to download it on your own \"Google Colaboratory\" space (see in the \"File\" menu, \"save a copy in your Google Drive\", you will have to create a gmail account if you don't already have one) so that you can modify it as you wish. You need to train with Google Colaboratory as you will be using it for the Challenging Week (Enseignement d'Intégration).\n",
        "\n",
        "Once you did indeed save this notebook on your own Google drive, you can modify it and save it again. If you corrupt anything by mistake, you have automatic recording of previous version which you can still acess to get back. Anyway you can still start from scratch with the default notebook if you experience really weird things with your current version.\n",
        "\n",
        "On the Help menu above, (menu \"Aide\" in French) you can switch the language of the interface. For this lectures I set it to English.\n",
        "\n",
        "\n",
        "## Overview\n",
        "Welcome this this first practicle work in cosmology. The aim of this practicle work is to further familiarize you with python and Google Colaboratory. Remember that you will have to use this for the Enseignement d'Intégration, so you really want to get trained before...\n",
        "\n",
        "In this first Practicle work we will address the following topics:\n",
        "\n",
        "\n",
        "1.   Simple Plots with cosmological parameters\n",
        "2.   Calculating distances and age of the Universe\n"
      ]
    },
    {
      "cell_type": "markdown",
      "metadata": {
        "id": "9rHbV8tKeGdo"
      },
      "source": [
        "## Simple Plots with cosmological parameters\n",
        "In a python notebook, there a cells that can be \"code\" or \"text\". The code cells can be recognized by the \"In[xx]\" at the beginning (xx is a number that depends on the order of execution of the cells)). They can be executed by pressing \"Shift+Enter\" and the code they contain is executed by the machine. If there is an output, it is displayed in another cell below the input one, a cell that starts with \"Out[xx]\".\n",
        "\n",
        "Before starting, one usually needs to set-up a few parameters for the notebook so that the plots are good-looking and that usual librairies are imported. This is obtained by executing the cell below:"
      ]
    },
    {
      "cell_type": "code",
      "metadata": {
        "id": "B0G-WGDYdXHW",
        "colab": {
          "base_uri": "https://localhost:8080/"
        },
        "outputId": "1f663734-ac44-4eac-87ef-3c61f14174d3"
      },
      "source": [
        "import sys\n",
        "print(\"Using Python {}\".format(sys.version_info[0]))\n",
        "\n",
        "from pylab import *\n",
        "import numpy as np\n",
        "%matplotlib inline\n",
        "from matplotlib import rc\n",
        "from importlib import reload\n",
        "rc('figure',figsize=(10,5))\n",
        "rc('font',size=12)\n",
        "rc('text',usetex=False)"
      ],
      "execution_count": 1,
      "outputs": [
        {
          "output_type": "stream",
          "name": "stdout",
          "text": [
            "Using Python 3\n"
          ]
        }
      ]
    },
    {
      "cell_type": "markdown",
      "metadata": {
        "id": "kORl7BNleTkg"
      },
      "source": [
        "### Densities as a function of redshift\n",
        "We will now do our first plot, which is related to cosmology. We want to plot the evolution of the density of various species (Radiation, Matter and Cosmological constant) as a finction of redshift. This was shown is the first lecture. We use the following values for the various densities as expressed today:"
      ]
    },
    {
      "cell_type": "code",
      "metadata": {
        "id": "z7p42t67eKju"
      },
      "source": [
        "h_0 = 0.7\n",
        "omega_l_0 = 0.7\n",
        "omega_r_0 = 4.3 * h_0**(-2) * 1e-5\n",
        "omega_m_0 = 0.3 - omega_r_0 "
      ],
      "execution_count": 2,
      "outputs": []
    },
    {
      "cell_type": "markdown",
      "metadata": {
        "id": "ZXTSKPuLerPG"
      },
      "source": [
        "We recall that: $$\\Omega(z) = \\Omega_r (1 + z)^4 + \\Omega_m (1 + z)^3 + \\Omega_\\Lambda$$\n",
        "\n",
        "We define a array containg the redshifts that we want to look at with logarithmic spacing between 1e-1 and 1e4 and 1000 elements."
      ]
    },
    {
      "cell_type": "code",
      "metadata": {
        "id": "RolrcvH-enzT",
        "colab": {
          "base_uri": "https://localhost:8080/"
        },
        "outputId": "87f1b278-30a2-4073-9d0c-00cfe689bb13"
      },
      "source": [
        "z = np.logspace(-1, 4, 1000)\n",
        "\n",
        "### Let's print the first 10 elements\n",
        "print(z[0:10])"
      ],
      "execution_count": 3,
      "outputs": [
        {
          "output_type": "stream",
          "name": "stdout",
          "text": [
            "[0.1        0.10115911 0.10233166 0.1035178  0.10471768 0.10593148\n",
            " 0.10715934 0.10840144 0.10965793 0.11092899]\n"
          ]
        }
      ]
    },
    {
      "cell_type": "markdown",
      "metadata": {
        "id": "pEl6_XzifGu_"
      },
      "source": [
        "We can directly calculate the densities using the redshift array as the following:"
      ]
    },
    {
      "cell_type": "code",
      "metadata": {
        "id": "IhQRvSpbfD0D"
      },
      "source": [
        "om_r = omega_r_0 * (1 + z)**4\n",
        "om_m = omega_m_0 * (1 + z)**3\n",
        "# the operation below is just a trick to have om_l be an array with the same \n",
        "# number of elements as the others\n",
        "om_l = omega_l_0 + z*0       \n",
        "total = om_r + om_m + om_l"
      ],
      "execution_count": 4,
      "outputs": []
    },
    {
      "cell_type": "markdown",
      "metadata": {
        "id": "OpqTaWnrfeTg"
      },
      "source": [
        "Now let's do our first plot:"
      ]
    },
    {
      "cell_type": "code",
      "metadata": {
        "id": "uh-a09qPfbb0",
        "colab": {
          "base_uri": "https://localhost:8080/",
          "height": 515
        },
        "outputId": "a02be515-0280-48ad-f8ba-a57074527db3"
      },
      "source": [
        "rc('figure',figsize=(10,5))\n",
        "xscale('log')\n",
        "yscale('log')\n",
        "xlabel('Redshift')\n",
        "ylabel(r'$\\Omega(z)$')\n",
        "plot(z,om_l, 'b', label = r'$\\Omega_\\Lambda(z)$')\n",
        "plot(z,om_r, 'k', label = r'$\\Omega_R(z)$')\n",
        "plot(z,om_m, 'g', label = r'$\\Omega_{NR}(z)$')\n",
        "plot(z,total, 'r', lw=2, label = 'Total')\n",
        "legend(loc='upper left', fontsize=13)\n",
        "title('Densities as a function of Redshift')"
      ],
      "execution_count": 5,
      "outputs": [
        {
          "output_type": "execute_result",
          "data": {
            "text/plain": [
              "Text(0.5, 1.0, 'Densities as a function of Redshift')"
            ]
          },
          "metadata": {},
          "execution_count": 5
        },
        {
          "output_type": "display_data",
          "data": {
            "text/plain": [
              "<Figure size 1000x500 with 1 Axes>"
            ],
            "image/png": "[encoded data removed]"
          },
          "metadata": {}
        }
      ]
    },
    {
      "cell_type": "markdown",
      "metadata": {
        "id": "O60kkPcSfvM6"
      },
      "source": [
        "***Question 1:*** Find numerically the values of the redshift of matter-radiation equality and of lambda domination, store them into a variable and print them."
      ]
    },
    {
      "cell_type": "code",
      "metadata": {
        "id": "LQCYvXHKfgxZ"
      },
      "source": [
        "### Type your code here"
      ],
      "execution_count": 7,
      "outputs": []
    },
    {
      "cell_type": "markdown",
      "metadata": {
        "id": "iKNi32iKgOBk"
      },
      "source": [
        "***Question 2:*** Now replot the initial plot and materialize with dotted vertical lines the values you found before. You are also requested to display the redshifts you found in the legend using python's formatted output. \n",
        "\n",
        "As an example for printing $\\pi$ with maximum 5 characters and 2 digits:\n",
        "```\n",
        "print('pi is {0:5.2f}'.format(np.pi))\n",
        "```"
      ]
    },
    {
      "cell_type": "code",
      "metadata": {
        "id": "1OPB8YWwf2yC"
      },
      "source": [
        "### Type your code here"
      ],
      "execution_count": 8,
      "outputs": []
    },
    {
      "cell_type": "markdown",
      "metadata": {
        "id": "koTTEAN3g1ru"
      },
      "source": [
        "Note the way of adding numerical values from a variable in the plot. This will be useful later.\n",
        "\n",
        "Now you know how to make a simple plot from an array, and how to manipulate arrays and make operations with them.\n"
      ]
    },
    {
      "cell_type": "markdown",
      "metadata": {
        "id": "Ob8_zLMXhFRq"
      },
      "source": [
        "## Cosmological Distances\n",
        "\n",
        "### quick recap\n",
        "\n",
        "Let's recall that distances in cosmology are not as straighforward as in our everyday life because of the effect of the expansion of the Universe. One needs to calculate distances on the curved and expanding manifold whose metric is given by the Friedman-Lemaître-Robertson-Walker  metric:\n",
        "$$ds^2 = dt^2 - a^2(t)\\left[\\frac{dr^2}{1-kr^2} + r^2 d\\theta^2 + r^2\\sin^2\\theta d\\phi^2\\right]$$  \n",
        "where we have set $c=1$ and $k$ is the curvature parameter and can take the values -1, 0 or 1 corresponding respectively to open, flat and closed Universes.\n",
        "\n",
        "The radial space coordinate difference between a point at 0 and a point at radius $r$ is:\n",
        "$$\\Delta r(z) = \\int_0^r \\frac{dr'}{\\sqrt{1-kr'^2}}$$\n",
        "\n",
        "For a photon, the travel is made at the speed of light whatever the referential (Relativity princinple) and the invariant $ds^2$ is therefore equal to zero:\n",
        "$$ds^2 = 0 = dt^2-a^2\\frac{dr^2}{1-kr^2}$$\n",
        "so that\n",
        "$$\\frac{dr}{\\sqrt{1-kr^2}}=\\frac{dt}{a}$$\n",
        "We also recall the definition of the redshift: $$1+z = \\frac{a0}{a}$$ and differientate it with respect to time:\n",
        "$$\\frac{dz}{dt}= -\\dot{a}\\frac{a_0}{a^2}$$ implying $$\\frac{dt}{a} = -\\frac{dz}{a_0}\\times\\frac{a}{\\dot{a}}$$, so finally introducing the Hubble parameters $H=\\frac{\\dot{a}}{a}$, we can rewrite the coordinate difference as:\n",
        "$$\\Delta r(z) = \\frac{1}{a_0}\\int_0^z \\frac{dz'}{H(z')}$$.\n",
        "\n",
        "Multiplying this coordinate difference by the scale factor today $a_0$, one get the *proper comoving distance*: $$D_P(z) = a_0 \\Delta r(z) = \\int_0^z \\frac{dz'}{H(z')}$$\n",
        "\n",
        "The latter can be multiplied by $1+z$ to obtain the *Luminosity Distance* or divided by $1+z$ to obtain the angular diameter distance."
      ]
    },
    {
      "cell_type": "markdown",
      "metadata": {
        "id": "_BZ60nrDhagd"
      },
      "source": [
        "### Luminosity distance calculation\n",
        "We will first calculate and plot H(z) with 1000 values of z between 0 and 1 linearly spaced (function to use is linspace()) using the formula in the course for H(z) and the cosmological parameters set to the same values as above. You can also play with cosmological parameters to see the change. We recall that $$H(z)=H_0\\sqrt{\\Omega_k(1 + z)^2 + \\Omega_\\Lambda + \\Omega_m (1 + z)^3}$$\n",
        "\n",
        "***Question 3:*** Do it yourself in the following cell, the variable H(z) should be called \"hz\". You are then requested to plot H as a function of z. Do not forget to put labels on your axes as well as a legend."
      ]
    },
    {
      "cell_type": "code",
      "metadata": {
        "id": "rvwLatV-grIm"
      },
      "source": [
        "### Type your code here"
      ],
      "execution_count": 12,
      "outputs": []
    },
    {
      "cell_type": "markdown",
      "metadata": {
        "id": "n5YXbf4ehuHc"
      },
      "source": [
        "Now we calculate the luminosity distance $$D_l(z) = c(1+z)\\int_0^z \\frac{\\mathrm{d}z'}{H(z')}$$ using the numerical integration features of the scipy library (trapezoidal cumulative integral):"
      ]
    },
    {
      "cell_type": "code",
      "metadata": {
        "id": "Bnkk1b78hqwJ"
      },
      "source": [
        "import scipy.integrate\n",
        "dp = np.zeros(len(z))\n",
        "dp[1:] = scipy.integrate.cumtrapz(1./hz, z) * 3e5"
      ],
      "execution_count": 13,
      "outputs": []
    },
    {
      "cell_type": "markdown",
      "metadata": {
        "id": "iGisXWWhhzRV"
      },
      "source": [
        "***Question 4:*** You are asked to make a plot of Luminosity distance as a function of redshift in the following cell (remember that $D_L(z) = (1+z)\\times D_p(z)$. You will call the variable containing luminosity distance \"dl\":"
      ]
    },
    {
      "cell_type": "code",
      "metadata": {
        "id": "Q9X6SM1Shwht"
      },
      "source": [
        "### Type your code here"
      ],
      "execution_count": 14,
      "outputs": []
    },
    {
      "cell_type": "markdown",
      "metadata": {
        "id": "I2NjpaZth8vV"
      },
      "source": [
        "### Using the cosmolib library\n",
        "In order to simplify our lives, I have prepared a library for the purpose of this course called \"cosmolib.py\" which is in the same directory. I encourage you to have a look at the various codes that we will be using from this library in order to see how such tools can be simply coded.\n",
        "\n",
        "The library requires installing two public libraries: emcee and iminuit before:"
      ]
    },
    {
      "cell_type": "code",
      "metadata": {
        "id": "v3hMGa1Sh1sN",
        "colab": {
          "base_uri": "https://localhost:8080/"
        },
        "outputId": "4110ec7c-6265-48fc-d301-5fe6a2f553a8"
      },
      "source": [
        "!pip install emcee\n",
        "!pip install iminuit"
      ],
      "execution_count": 15,
      "outputs": [
        {
          "output_type": "stream",
          "name": "stdout",
          "text": [
            "Looking in indexes: https://pypi.org/simple, https://us-python.pkg.dev/colab-wheels/public/simple/\n",
            "Collecting emcee\n",
            "  Downloading emcee-3.1.4-py2.py3-none-any.whl (46 kB)\n",
            "\u001b[2K     \u001b[90m━━━━━━━━━━━━━━━━━━━━━━━━━━━━━━━━━━━━━━━━\u001b[0m \u001b[32m46.2/46.2 kB\u001b[0m \u001b[31m4.9 MB/s\u001b[0m eta \u001b[36m0:00:00\u001b[0m\n",
            "\u001b[?25hRequirement already satisfied: numpy in /usr/local/lib/python3.10/dist-packages (from emcee) (1.22.4)\n",
            "Installing collected packages: emcee\n",
            "Successfully installed emcee-3.1.4\n",
            "Looking in indexes: https://pypi.org/simple, https://us-python.pkg.dev/colab-wheels/public/simple/\n",
            "Collecting iminuit\n",
            "  Downloading iminuit-2.21.3-cp310-cp310-manylinux_2_17_x86_64.manylinux2014_x86_64.whl (382 kB)\n",
            "\u001b[2K     \u001b[90m━━━━━━━━━━━━━━━━━━━━━━━━━━━━━━━━━━━━━━\u001b[0m \u001b[32m382.1/382.1 kB\u001b[0m \u001b[31m14.4 MB/s\u001b[0m eta \u001b[36m0:00:00\u001b[0m\n",
            "\u001b[?25hRequirement already satisfied: numpy>=1.21 in /usr/local/lib/python3.10/dist-packages (from iminuit) (1.22.4)\n",
            "Installing collected packages: iminuit\n",
            "Successfully installed iminuit-2.21.3\n"
          ]
        }
      ]
    },
    {
      "cell_type": "markdown",
      "metadata": {
        "id": "_jdwu2vwjXOK"
      },
      "source": [
        "Now let's retrieve the cosmolib.py from GitHub directly using Google Colaboratory.\n",
        "\n",
        "Note that we first remove a possible version of the file in the local Google Colab directory, then download it using wget, list the content of the directory. All these commands are typical unix commands that are run from Google Colaboratory by prepending an exclamation mark to tell it that it should run unix commands:"
      ]
    },
    {
      "cell_type": "code",
      "metadata": {
        "id": "NnP2JxQwjjx-",
        "colab": {
          "base_uri": "https://localhost:8080/"
        },
        "outputId": "282cd71a-acc6-46f5-af81-0412bad48ca2"
      },
      "source": [
        "!rm -rf cosmolib.py*\n",
        "!wget --no-check-certificate https://raw.githubusercontent.com/jchamilton75/CS-ST4-Cosmo-2020/master/cosmolib.py\n",
        "!ls -lrt"
      ],
      "execution_count": 16,
      "outputs": [
        {
          "output_type": "stream",
          "name": "stdout",
          "text": [
            "--2023-05-10 16:43:37--  https://raw.githubusercontent.com/jchamilton75/CS-ST4-Cosmo-2020/master/cosmolib.py\n",
            "Resolving raw.githubusercontent.com (raw.githubusercontent.com)... 185.199.111.133, 185.199.108.133, 185.199.109.133, ...\n",
            "Connecting to raw.githubusercontent.com (raw.githubusercontent.com)|185.199.111.133|:443... connected.\n",
            "HTTP request sent, awaiting response... 200 OK\n",
            "Length: 15812 (15K) [text/plain]\n",
            "Saving to: ‘cosmolib.py’\n",
            "\n",
            "\rcosmolib.py           0%[                    ]       0  --.-KB/s               \rcosmolib.py         100%[===================>]  15.44K  --.-KB/s    in 0s      \n",
            "\n",
            "2023-05-10 16:43:38 (52.1 MB/s) - ‘cosmolib.py’ saved [15812/15812]\n",
            "\n",
            "total 20\n",
            "drwxr-xr-x 1 root root  4096 May  9 13:35 sample_data\n",
            "-rw-r--r-- 1 root root 15812 May 10 16:43 cosmolib.py\n"
          ]
        }
      ]
    },
    {
      "cell_type": "markdown",
      "metadata": {
        "id": "BtA4EQacoMI0"
      },
      "source": [
        "Now let's import the library and give it the namespace 'cs' so that everytime we'll call one of its function it will be as:\n",
        "```\n",
        "cs.myfunction()\n",
        "```\n",
        "\n"
      ]
    },
    {
      "cell_type": "code",
      "metadata": {
        "id": "oQVZYoDjoacH"
      },
      "source": [
        "import cosmolib as cs"
      ],
      "execution_count": 17,
      "outputs": []
    },
    {
      "cell_type": "markdown",
      "metadata": {
        "id": "YwYalOwoiXBO"
      },
      "source": [
        "It contains a function for Luminosity Distances that is slightly more precise than the one we just calculated above, but the differences are very small.\n",
        "\n",
        "It is called in the follwing manner that uses a dictionnary to specify the value of the cosmological parameters. The three parameters that are accepted are:\n",
        "- *h* for the Hubble constant at redshift 0 divided by 100\n",
        "- *omega_M_0* for $\\Omega_m$ today at redshift 0\n",
        "- *omega_lambda_0* for $\\Omega_\\Lambda$ at redshift 0\n",
        "- *w0* for the equation of state of Dark Energy. \n",
        "\n",
        "**Note:** The Dark Energy equation of state was not discussed in the lectures due to the lack of time. It is however one of the main challenges of observational cosmology to measure it today. SNIa are a sensitive probe for this parameter. The equation of state is the ratio between pressure and density of Dark Energy (as for a perfect gaz). However in the case of Dark Energy or Csomological Constant the ratio is negative (you need negative pressure to have an accelerated expansion as can be seen in the second Friedman Equation - see lectures). For a perfect Cosmological constant w=0 and for Dark Energy models it can have other values, and possibly vary with redshift. Do not worry with this now and just keep it fixed to -1."
      ]
    },
    {
      "cell_type": "code",
      "metadata": {
        "id": "1PzAQJBNiKAu"
      },
      "source": [
        "z = np.linspace(0,1,1000)\n",
        "cosmo_lcdm = {'h':0.7, 'omega_M_0':0.3, 'omega_lambda_0':0.7, 'w0':-1.}\n",
        "dlnew = cs.lumdist(z, cosmo_lcdm)"
      ],
      "execution_count": 18,
      "outputs": []
    },
    {
      "cell_type": "markdown",
      "metadata": {
        "id": "sRvltPU6ojgp"
      },
      "source": [
        "As you see the Cosmological Parameters values are specified using a Python Dictionnary, a very useful tool in Python when one needs containers of various data types with labels for each.\n",
        "\n",
        "***Question 5:*** In the follwing cell, you are expected to superimpose both of the luminosity distances we have calculated (if you want to play, you can also have a look at the difference or relative difference between both)."
      ]
    },
    {
      "cell_type": "code",
      "metadata": {
        "id": "ZFdE2L0GnF0a"
      },
      "source": [
        "### Type your code here"
      ],
      "execution_count": null,
      "outputs": []
    },
    {
      "cell_type": "markdown",
      "metadata": {
        "id": "cqv_9gohjjHW"
      },
      "source": [
        "### Angular distance:\n",
        "Similarly to the luminosity distance, the cosmolib library has a angdist() function that is called the same way. We calculate it and compare to the previously calculated luminsotity distance in the following cell:"
      ]
    },
    {
      "cell_type": "code",
      "metadata": {
        "id": "Ocgi0a0LjktG",
        "colab": {
          "base_uri": "https://localhost:8080/",
          "height": 351
        },
        "outputId": "22e40671-b1aa-4749-f1ba-b8ee6a2a7b4c"
      },
      "source": [
        "dang = cs.angdist(z, cosmo_lcdm)\n",
        "plot(z, dlnew, 'red', label='Luminosity Distance')\n",
        "plot(z, dang, 'blue', label='Angular Distance')\n",
        "xlabel('Redshift')\n",
        "ylabel('Distance [Mpc]')\n",
        "legend()"
      ],
      "execution_count": null,
      "outputs": [
        {
          "output_type": "execute_result",
          "data": {
            "text/plain": [
              "<matplotlib.legend.Legend at 0x7ffb7b628e48>"
            ]
          },
          "metadata": {
            "tags": []
          },
          "execution_count": 10
        },
        {
          "output_type": "display_data",
          "data": {
            "image/png": "[encoded data removed]",
            "text/plain": [
              "<Figure size 720x360 with 1 Axes>"
            ]
          },
          "metadata": {
            "tags": [],
            "needs_background": "light"
          }
        }
      ]
    },
    {
      "cell_type": "markdown",
      "metadata": {
        "id": "4sa7ktJDr-Zx"
      },
      "source": [
        "### Overplotting Cosmological models to observational data:\n",
        "Let's assume you have ran an experiment that measured angular distances  (using Baryonic Acoustic Oscillations) at various redshifts and obtain the following measurements (this is taken from the SDSS-3 Boss experiment https://arxiv.org/abs/1607.03155 with a slight conversion to make your life easier):\n",
        "\n",
        "| Redhift | Angular Distance [Mpc] | Uncertainty on $D_A$ [Mpc] |\n",
        "| --- | --- | --- |\n",
        "| 0.38 | 1081 | 15 |\n",
        "| 0.51 | 1276 | 19 |\n",
        "| 0.61 | 1370 | 26 |\n",
        "\n",
        "This data can be plotted in the following manner:"
      ]
    },
    {
      "cell_type": "code",
      "metadata": {
        "id": "1XXTje8ltZdt",
        "colab": {
          "base_uri": "https://localhost:8080/",
          "height": 490
        },
        "outputId": "4c51c9c3-7448-443d-8af6-e99dce4cebce"
      },
      "source": [
        "z_bao = np.array([0.38, 0.51, 0.61])\n",
        "dang_bao = np.array([1081., 1276., 1370.])\n",
        "err_dang_bao = np.array([15., 19., 26.])\n",
        "errorbar(z_bao, dang_bao, yerr=err_dang_bao, fmt='bo', label='SDSS Data DR12 [https://arxiv.org/abs/1607.03155]')\n",
        "xlabel('z')\n",
        "ylabel('$D_A(z)~[Mpc]$')\n",
        "legend(loc='upper left')"
      ],
      "execution_count": 19,
      "outputs": [
        {
          "output_type": "execute_result",
          "data": {
            "text/plain": [
              "<matplotlib.legend.Legend at 0x7fe6a8926f80>"
            ]
          },
          "metadata": {},
          "execution_count": 19
        },
        {
          "output_type": "display_data",
          "data": {
            "text/plain": [
              "<Figure size 1000x500 with 1 Axes>"
            ],
            "image/png": "[encoded data removed]"
          },
          "metadata": {}
        }
      ]
    },
    {
      "cell_type": "markdown",
      "metadata": {
        "id": "e7zwRnfCtgeB"
      },
      "source": [
        "**Question 6:** Overplot the theoretical models for three sets of cosmological parameters:\n",
        "\n",
        "\n",
        "1.   $\\Lambda$CDM with h=0.7, $\\Omega_m$=0.3, $\\Omega_\\Lambda$=0.7 (and $w$=-1)\n",
        "2.   The so-called \"open\" model with h=0.7, $\\Omega_m$=0.3, $\\Omega_\\Lambda$=0.0 (and $w$=-1)\n",
        "3.   The so-called \"flat\" model with $\\Lambda$CDM with h=0.7, $\\Omega_m$=1.0, $\\Omega_\\Lambda$=0. (and $w$=-1)\n",
        "\n",
        "[NB: Model 3 is called \"flat\" in the sense \"flat with no $\\Lambda$\" as you all =have noticed that $\\Lambda$CDM is also flat.]\n",
        "\n"
      ]
    },
    {
      "cell_type": "code",
      "metadata": {
        "id": "pIs16pP_tjGb"
      },
      "source": [
        "### Type your code here"
      ],
      "execution_count": null,
      "outputs": []
    },
    {
      "cell_type": "markdown",
      "metadata": {
        "id": "TChSUlyDtjmk"
      },
      "source": [
        "You should notice here that $\\Lambda$CDM works much better, but you can also remark that changing the Hubble-Lemaître constant to other values (around 0.6 - 0.65) in the two other models gives predictions that are in quite good agreement with the data. This shows an inherent degeneracy between cosmological parameters that can only be lifted by combining different cosmological probes (BAO as here, type Ia supernovae and the CMB). You will work on this durng the \"Semaine d'Intégration\"."
      ]
    },
    {
      "cell_type": "markdown",
      "metadata": {
        "id": "MbdJmaeBpAy4"
      },
      "source": [
        "## Calculating the age of the Universe\n",
        "Similarly to the distance calculation, one can calculate the time elapsed since a given redshift (we have used variable changes similar as above):\n",
        "$$t(z) = \\int_t^{t0} dt' = \\int_0^z \\frac{dz'}{(1+z')H(z')}$$\n",
        "\n",
        "Calculating this integral from 0 to infinity gives the age of the Universe for a given cosmological model. You may implement your own calculation of the age of the Universe or use the function available in the cosmolib library:\n",
        "age [Gyr] = cs.lookback(z, cosmo)\n",
        "\n",
        "where z can be just a value or an numpy array of redshifts and cosmo is a dictionary given in the following manner:\n"
      ]
    },
    {
      "cell_type": "code",
      "metadata": {
        "id": "6dLxRWQsol8N"
      },
      "source": [
        "cosmo_lcdm = {'h':0.7, 'omega_M_0':0.3, 'omega_lambda_0':0.7, 'w0':-1.}"
      ],
      "execution_count": 20,
      "outputs": []
    },
    {
      "cell_type": "markdown",
      "metadata": {
        "id": "wS-zMQAGrBwF"
      },
      "source": [
        "Let's calculate the age of the Universe when the redshift was 0.1"
      ]
    },
    {
      "cell_type": "code",
      "metadata": {
        "id": "dQGAjFGcpE0C",
        "colab": {
          "base_uri": "https://localhost:8080/"
        },
        "outputId": "3cccd46c-ed4f-495f-e6e3-400bb51b8ace"
      },
      "source": [
        "print(cs.lookback(0.1, cosmo_lcdm))"
      ],
      "execution_count": 21,
      "outputs": [
        {
          "output_type": "stream",
          "name": "stdout",
          "text": [
            "1.3015743503698538\n"
          ]
        }
      ]
    },
    {
      "cell_type": "markdown",
      "metadata": {
        "id": "pQo0yAbyrHq4"
      },
      "source": [
        "And let's calculate an array with ages of the Universe at various redshifts:"
      ]
    },
    {
      "cell_type": "code",
      "metadata": {
        "id": "IdsxU5i4rGcM",
        "colab": {
          "base_uri": "https://localhost:8080/"
        },
        "outputId": "c2fb3a1d-64a8-436a-92db-be8235de88ba"
      },
      "source": [
        "zvalues = np.array([0.1, 1, 10])\n",
        "print(cs.lookback(zvalues, cosmo_lcdm))"
      ],
      "execution_count": 22,
      "outputs": [
        {
          "output_type": "stream",
          "name": "stdout",
          "text": [
            "[ 1.30157435  7.71697782 13.0038611 ]\n"
          ]
        }
      ]
    },
    {
      "cell_type": "markdown",
      "metadata": {
        "id": "3wEFpPturfuJ"
      },
      "source": [
        "***Question 7:*** In the next cell, calculate the time elapsed between today and 1000 redshifts logarithmically spaced between $10^{-4}$ and $10^4$ for the standard $\\Lambda CDM$ cosmology and represent it as a function of redshift."
      ]
    },
    {
      "cell_type": "code",
      "metadata": {
        "id": "dijhCcaprTDP"
      },
      "source": [
        "### Type your code here"
      ],
      "execution_count": null,
      "outputs": []
    },
    {
      "cell_type": "markdown",
      "metadata": {
        "id": "7H4ldqfhrrft"
      },
      "source": [
        "***Question 8:*** You should see that beyond $z=10$ the elapsed time reaches its maximum, the age of the Universe whose value is therefore the maximum of this array. You are expected to print it in the following cell:"
      ]
    },
    {
      "cell_type": "code",
      "metadata": {
        "id": "-vw3ahGzritW"
      },
      "source": [
        "### Type your code here"
      ],
      "execution_count": null,
      "outputs": []
    },
    {
      "cell_type": "markdown",
      "metadata": {
        "id": "Elpv2vNRryRD"
      },
      "source": [
        "You will now calculate this age as a function of cosmological parameters, for this you will need to perform loops and use two-dimensional arrays.\n",
        "\n",
        "***Question 9:*** Calculate the age of Universe as a function of the matter density (30 or 100 values between 0 and 1) and the Cosmological Constant density (30 or 100 values between 0 and 1.5). For each couple of values, you will calculate the age of the Universe and fill a 2D-array. You will then represent this age using a color 2D plot using the matplotlib function *imshow()*. Do not forget to add correct axes, title and labels on the axes. You will also add a color-bar next to the image by calling the *colorbar()* function just after your 2D plot."
      ]
    },
    {
      "cell_type": "code",
      "metadata": {
        "id": "pQLDFbTUrxZL"
      },
      "source": [
        "### Type your code here"
      ],
      "execution_count": null,
      "outputs": []
    },
    {
      "cell_type": "markdown",
      "metadata": {
        "id": "H_ZkMfobsMKL"
      },
      "source": [
        "***Question 10:*** You are now requested to redo the same plot adding:\n",
        "- contours for various integer values of the age of the Universe (bettween 0 and 20 GYr). You should use both the *contour()* and the *contourf()* functions from matplotlib that allow you to respectively plot and fill the contours with colors. Note that these to function expect 2d arrays as x,y coordinates for the values to display, so you will have to build 2d arrays from your x and y 1d arrays using the function *np.meshgrid()*\n",
        "- an additional contour (different color) for the star HE1523-0901 whose age has been measured to be 13.2 Gyr\n",
        "- A star at the coordinates corresponding to $\\Lambda CDM$ cosmology ($\\Omega_m=0.3$, $\\Omega_\\Lambda=0.7$)\n",
        "- A dot in a given color for the open Univserse with no $\\Lambda$  ($\\Omega_m=0.3$, $\\Omega_\\Lambda=0$)\n",
        "- A dot in another color for the flat no $\\Lambda$ ($\\Omega_m=1$, $\\Omega_\\Lambda=0$)\n",
        "\n",
        "And of course pout all these into a legend. \n",
        "\n",
        "In order to do the contours\n",
        "\n",
        "At the end, you should get the following plot which look like it could be published in a paper...  ![ageUniverse](http://www.apc.univ-paris7.fr/Downloads/cosmobs/JCH/CentraleSupelec/age.png)"
      ]
    },
    {
      "cell_type": "code",
      "metadata": {
        "id": "40OdJld6r5Q3"
      },
      "source": [
        "### Type your code here"
      ],
      "execution_count": null,
      "outputs": []
    },
    {
      "cell_type": "markdown",
      "metadata": {
        "id": "_TJyqh72uAPB"
      },
      "source": [
        "End of TD1"
      ]
    }
  ]
}